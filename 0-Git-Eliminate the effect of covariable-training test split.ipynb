{
 "cells": [
  {
   "cell_type": "code",
   "execution_count": null,
   "id": "4bc1384b",
   "metadata": {},
   "outputs": [],
   "source": [
    "import pandas as pd\n",
    "\n",
    "# load the Shanghai data\n",
    "file_path = 'The Shanghai data.xlsx'\n",
    "df_swimming_age_filtered = pd.read_excel(file_path)"
   ]
  },
  {
   "cell_type": "code",
   "execution_count": null,
   "id": "ecc10f95",
   "metadata": {},
   "outputs": [],
   "source": [
    "import pandas as pd\n",
    "from sklearn.linear_model import LinearRegression\n",
    "\n",
    "# Assume df_swimming_age_filtered is your DataFrame that includes all independent and control variable columns\n",
    "# self_vars is a list of the names of independent variables, covars is a list of the names of control variables\n",
    "self_vars = [\n",
    "    \"Height (cm)\", \"Weight (kg)\", \"Calf circumference (cm)\", \"Upper limb length (cm)\",\n",
    "    \"Thigh circumference (cm)\", \"Lower limb length (cm)\", \"Pelvis width (cm)\",\n",
    "    \"Subscapular skinfold (mm)\", \"Abdominal skinfold (mm)\", \"Triceps skinfold (mm)\",\n",
    "    \"Shoulder width (cm)\", \"Achilles tendon length (cm)\", \"Waist circumference (cm)\",\n",
    "    \"Arm span (cm)\", \"Sitting height (cm)\", \"Calf length (cm)\", \"Ankle circumference (cm)\",\n",
    "    \"Chest circumference (cm)\", \"Hemoglobin (g/l)\", \"Lung capacity (ml)\",\n",
    "    \"Systolic pressure (mmHg)\", \"Diastolic pressure (mmHg)\"\n",
    "]\n",
    "covars = [\"Age\", \"Sex\", \"interaction_term\"]\n",
    "\n",
    "# Iterate through each independent variable, fit it with a linear model, and calculate the residuals\n",
    "for var in self_vars:\n",
    "    # Get the data for the independent variable and control variables\n",
    "    X = df_swimming_age_filtered[covars]\n",
    "    y = df_swimming_age_filtered[var]\n",
    "    \n",
    "    # Perform linear fitting using LinearRegression\n",
    "    model = LinearRegression()\n",
    "    model.fit(X, y)\n",
    "    \n",
    "    # Calculate the fitted values and residuals\n",
    "    fitted_values = model.predict(X)\n",
    "    residuals = y - fitted_values\n",
    "    \n",
    "    # Update the original column with residuals\n",
    "    df_swimming_age_filtered[var] = residuals\n",
    "\n",
    "# Output the processed DataFrame to examine the updated independent variable columns\n",
    "print(df_swimming_age_filtered.head(6))"
   ]
  },
  {
   "cell_type": "code",
   "execution_count": null,
   "id": "83e6f370",
   "metadata": {},
   "outputs": [],
   "source": [
    "import pandas as pd\n",
    "\n",
    "# Filter out the rows with ranking of 1 and ranking of 0 separately\n",
    "df_rank_1 = df_swimming_age_filtered[df_swimming_age_filtered['Rank'] == 1]\n",
    "df_rank_0 = df_swimming_age_filtered[df_swimming_age_filtered['Rank'] == 0]\n",
    "\n",
    "# Get the number of rows with ranking of 0 to determine the number of rows with ranking of 1 to be sampled\n",
    "num_rank_0 = df_rank_0.shape[0]\n",
    "\n",
    "# Sample (with replacement) from the rows with ranking of 1 to obtain a number of samples equal to the number of rows with ranking of 0\n",
    "df_rank_1_sampled = df_rank_1.sample(n=num_rank_0, replace=True, random_state=42)\n",
    "\n",
    "# Combine the resampled rows with ranking of 1 with the rows with ranking of 0\n",
    "df_balanced = pd.concat([df_rank_1_sampled, df_rank_0]).reset_index(drop=True)\n",
    "\n",
    "# Output the combined data\n",
    "print(df_balanced)"
   ]
  },
  {
   "cell_type": "code",
   "execution_count": null,
   "id": "50c38165",
   "metadata": {},
   "outputs": [],
   "source": [
    "import pandas as pd\n",
    "from sklearn.model_selection import train_test_split\n",
    "\n",
    "# Assume df_balanced is the DataFrame you want to split\n",
    "\n",
    "# Split the DataFrame into training and test sets with a ratio of 70-30\n",
    "train_set, test_set = train_test_split(df_balanced, test_size=0.30, stratify=df_balanced[['Rank', 'Age', 'Sex']], random_state=42)\n",
    "\n",
    "# Save the data to different sheets in an Excel file\n",
    "with pd.ExcelWriter('Model_Development_Data.xlsx') as writer:\n",
    "    train_set.to_excel(writer, sheet_name='training', index=False)\n",
    "    test_set.to_excel(writer, sheet_name='test', index=False)"
   ]
  }
 ],
 "metadata": {
  "kernelspec": {
   "display_name": "Python 3 (ipykernel)",
   "language": "python",
   "name": "python3"
  },
  "language_info": {
   "codemirror_mode": {
    "name": "ipython",
    "version": 3
   },
   "file_extension": ".py",
   "mimetype": "text/x-python",
   "name": "python",
   "nbconvert_exporter": "python",
   "pygments_lexer": "ipython3",
   "version": "3.9.7"
  }
 },
 "nbformat": 4,
 "nbformat_minor": 5
}
